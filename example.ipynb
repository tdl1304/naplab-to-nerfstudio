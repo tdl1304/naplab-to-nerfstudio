{
 "cells": [
  {
   "cell_type": "markdown",
   "metadata": {},
   "source": [
    "# Create dataset with GNSS+HLOC"
   ]
  },
  {
   "cell_type": "code",
   "execution_count": 1,
   "metadata": {},
   "outputs": [
    {
     "name": "stdout",
     "output_type": "stream",
     "text": [
      "translation factor:  [2.70441530e+05 7.03986496e+06 6.52602945e+01]\n",
      "Cam 0 | Image Saving Batch 0 completed\n"
     ]
    },
    {
     "name": "stderr",
     "output_type": "stream",
     "text": [
      "[2024/06/08 16:13:19 hloc INFO] Extracting local features with configuration:\n",
      "{'model': {'name': 'netvlad'},\n",
      " 'output': 'global-feats-netvlad',\n",
      " 'preprocessing': {'resize_max': 1024}}\n",
      "[2024/06/08 16:13:19 hloc INFO] Found 344 images in root nerfstudio/images.\n"
     ]
    },
    {
     "name": "stdout",
     "output_type": "stream",
     "text": [
      "Transforms JSON created at nerfstudio/transforms.json\n"
     ]
    },
    {
     "name": "stderr",
     "output_type": "stream",
     "text": [
      "100%|██████████| 344/344 [00:25<00:00, 13.56it/s]\n",
      "[2024/06/08 16:13:56 hloc INFO] Finished exporting features.\n",
      "[2024/06/08 16:13:56 hloc INFO] Extracting image pairs from a retrieval database.\n",
      "[2024/06/08 16:13:56 hloc INFO] Found 3440 pairs.\n",
      "[2024/06/08 16:13:56 hloc INFO] Extracting local features with configuration:\n",
      "{'model': {'max_keypoints': 5000, 'name': 'disk'},\n",
      " 'output': 'feats-disk',\n",
      " 'preprocessing': {'grayscale': False, 'resize_max': 1600}}\n",
      "[2024/06/08 16:13:56 hloc INFO] Found 344 images in root nerfstudio/images.\n",
      "100%|██████████| 344/344 [00:28<00:00, 12.27it/s]\n",
      "[2024/06/08 16:14:24 hloc INFO] Finished exporting features.\n",
      "[2024/06/08 16:14:24 hloc INFO] Matching local features with configuration:\n",
      "{'model': {'features': 'disk', 'name': 'lightglue'},\n",
      " 'output': 'matches-disk-lightglue'}\n",
      "100%|██████████| 2044/2044 [00:57<00:00, 35.52it/s]\n",
      "[2024/06/08 16:15:22 hloc INFO] Finished exporting matches.\n",
      "[2024/06/08 16:15:22 hloc INFO] Creating an empty database...\n",
      "[2024/06/08 16:15:22 hloc INFO] Importing images into the database...\n",
      "[2024/06/08 16:15:37 hloc INFO] Importing features into the database...\n",
      "100%|██████████| 344/344 [00:00<00:00, 1782.72it/s]\n",
      "[2024/06/08 16:15:38 hloc INFO] Importing matches into the database...\n",
      "100%|██████████| 3440/3440 [00:01<00:00, 2780.40it/s]\n",
      "[2024/06/08 16:15:39 hloc INFO] Performing geometric verification of the matches...\n",
      "[2024/06/08 16:15:56 hloc INFO] Running 3D reconstruction...\n"
     ]
    },
    {
     "ename": "",
     "evalue": "",
     "output_type": "error",
     "traceback": [
      "\u001b[1;31mThe Kernel crashed while executing code in the current cell or a previous cell. \n",
      "\u001b[1;31mPlease review the code in the cell(s) to identify a possible cause of the failure. \n",
      "\u001b[1;31mClick <a href='https://aka.ms/vscodeJupyterKernelCrash'>here</a> for more info. \n",
      "\u001b[1;31mView Jupyter <a href='command:jupyter.viewOutput'>log</a> for further details."
     ]
    }
   ],
   "source": [
    "from hloc_with_prior import create_dataset_from_rig\n",
    "from pathlib import Path\n",
    "create_dataset_from_rig(Path(\"Trip094/singlecam.json\"), Path(\"nerfstudio\"), Path(\"Trip094/gnss094_50.txt\"), Path(\"Trip094/gnss094_52.txt\"))"
   ]
  }
 ],
 "metadata": {
  "kernelspec": {
   "display_name": "nerfstudio",
   "language": "python",
   "name": "python3"
  },
  "language_info": {
   "codemirror_mode": {
    "name": "ipython",
    "version": 3
   },
   "file_extension": ".py",
   "mimetype": "text/x-python",
   "name": "python",
   "nbconvert_exporter": "python",
   "pygments_lexer": "ipython3",
   "version": "3.8.18"
  }
 },
 "nbformat": 4,
 "nbformat_minor": 2
}
