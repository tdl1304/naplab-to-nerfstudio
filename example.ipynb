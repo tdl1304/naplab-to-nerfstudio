{
 "cells": [
  {
   "cell_type": "markdown",
   "metadata": {},
   "source": [
    "# Create dataset with GNSS+HLOC"
   ]
  },
  {
   "cell_type": "code",
   "execution_count": 1,
   "metadata": {},
   "outputs": [
    {
     "name": "stdout",
     "output_type": "stream",
     "text": [
      "translation factor:  [2.70441530e+05 7.03986496e+06 6.52602945e+01]\n",
      "Cam 0 | Image Saving Batch 0 completed\n"
     ]
    },
    {
     "name": "stderr",
     "output_type": "stream",
     "text": [
      "[2024/06/08 13:31:31 hloc INFO] Extracting local features with configuration:\n",
      "{'model': {'name': 'netvlad'},\n",
      " 'output': 'global-feats-netvlad',\n",
      " 'preprocessing': {'resize_max': 1024}}\n",
      "[2024/06/08 13:31:31 hloc INFO] Found 314 images in root nerfstudio/images.\n"
     ]
    },
    {
     "name": "stdout",
     "output_type": "stream",
     "text": [
      "Transforms JSON created at nerfstudio/transforms.json\n"
     ]
    },
    {
     "name": "stderr",
     "output_type": "stream",
     "text": [
      "100%|██████████| 314/314 [08:41<00:00,  1.66s/it]\n",
      "[2024/06/08 13:40:32 hloc INFO] Finished exporting features.\n",
      "[2024/06/08 13:40:32 hloc INFO] Extracting image pairs from a retrieval database.\n",
      "[2024/06/08 13:40:32 hloc INFO] Found 3140 pairs.\n",
      "[2024/06/08 13:40:32 hloc INFO] Extracting local features with configuration:\n",
      "{'model': {'max_keypoints': 5000, 'name': 'disk'},\n",
      " 'output': 'feats-disk',\n",
      " 'preprocessing': {'grayscale': False, 'resize_max': 1600}}\n",
      "[2024/06/08 13:40:32 hloc INFO] Found 314 images in root nerfstudio/images.\n",
      "/home/kristbsy/anaconda3/envs/nerfstudio/lib/python3.8/site-packages/torch/cuda/__init__.py:546: UserWarning: Can't initialize NVML\n",
      "  warnings.warn(\"Can't initialize NVML\")\n",
      " 71%|███████   | 222/314 [15:46<06:34,  4.29s/it]"
     ]
    }
   ],
   "source": [
    "from hloc_with_prior import create_dataset_from_rig\n",
    "from pathlib import Path\n",
    "create_dataset_from_rig(Path(\"Trip094/singlecam.json\"), Path(\"nerfstudio\"), Path(\"Trip094/gnss094_50.txt\"), Path(\"Trip094/gnss094_52.txt\"))"
   ]
  }
 ],
 "metadata": {
  "kernelspec": {
   "display_name": "nerfstudio",
   "language": "python",
   "name": "python3"
  },
  "language_info": {
   "codemirror_mode": {
    "name": "ipython",
    "version": 3
   },
   "file_extension": ".py",
   "mimetype": "text/x-python",
   "name": "python",
   "nbconvert_exporter": "python",
   "pygments_lexer": "ipython3",
   "version": "3.8.18"
  }
 },
 "nbformat": 4,
 "nbformat_minor": 2
}
